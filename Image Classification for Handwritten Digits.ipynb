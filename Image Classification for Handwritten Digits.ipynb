{
 "cells": [
  {
   "cell_type": "markdown",
   "id": "5a02709e-9aa6-4767-bb43-113ecbe6a1fc",
   "metadata": {},
   "source": [
    "# Image Classification for Handwritten Digits"
   ]
  },
  {
   "cell_type": "code",
   "execution_count": null,
   "id": "913eabb1-1010-4927-951b-6213becb9d9a",
   "metadata": {},
   "outputs": [],
   "source": []
  }
 ],
 "metadata": {
  "kernelspec": {
   "display_name": "Python 3 (ipykernel)",
   "language": "python",
   "name": "python3"
  },
  "language_info": {
   "codemirror_mode": {
    "name": "ipython",
    "version": 3
   },
   "file_extension": ".py",
   "mimetype": "text/x-python",
   "name": "python",
   "nbconvert_exporter": "python",
   "pygments_lexer": "ipython3",
   "version": "3.11.9"
  }
 },
 "nbformat": 4,
 "nbformat_minor": 5
}
