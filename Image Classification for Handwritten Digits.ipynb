{
 "cells": [
  {
   "cell_type": "markdown",
   "id": "5a02709e-9aa6-4767-bb43-113ecbe6a1fc",
   "metadata": {},
   "source": [
    "# Image Classification for Handwritten Digits"
   ]
  },
  {
   "cell_type": "code",
   "execution_count": 1,
   "id": "913eabb1-1010-4927-951b-6213becb9d9a",
   "metadata": {},
   "outputs": [],
   "source": [
    "import torch\n",
    "import torch.nn as nn\n",
    "from torchvision import datasets, transforms\n",
    "from torchtyping import TensorType\n",
    "from jaxtyping import Float\n",
    "from torch.utils.data import DataLoader\n",
    "from PIL import Image\n",
    "import matplotlib.pyplot as plt"
   ]
  },
  {
   "cell_type": "code",
   "execution_count": 5,
   "id": "fb8e2292-fda5-427d-a7e2-ea7d3a07ce0f",
   "metadata": {},
   "outputs": [],
   "source": [
    "class DigitRecognition(nn.Module):\n",
    "    def __init__(self):\n",
    "        super().__init__()\n",
    "        torch.manual_seed(0)\n",
    "        self.first_layer = nn.Linear(784, 512)\n",
    "        self.relu = nn.ReLU()\n",
    "        self.drop = nn.Dropout(p=0.2)\n",
    "        self.final_layer = nn.Linear(512, 10)\n",
    "        self.sig = nn.Sigmoid()\n",
    "        pass\n",
    "        # Define the architecture here\n",
    "    \n",
    "    def forward(self, images: TensorType[float]) -> TensorType[float]:\n",
    "        torch.manual_seed(0)\n",
    "        out = self.sig(self.final_layer(self.drop(self.relu(self.first_layer(images)))))\n",
    "        return torch.round(out, decimals=4)\n",
    "        pass\n",
    "        # Return the model's prediction to 4 decimal places"
   ]
  },
  {
   "cell_type": "code",
   "execution_count": 11,
   "id": "eb0fdb6c-21f6-4d6d-83bd-5e2749a6d99a",
   "metadata": {},
   "outputs": [
    {
     "ename": "NameError",
     "evalue": "name 'train_dataloader' is not defined",
     "output_type": "error",
     "traceback": [
      "\u001b[1;31m---------------------------------------------------------------------------\u001b[0m",
      "\u001b[1;31mNameError\u001b[0m                                 Traceback (most recent call last)",
      "Cell \u001b[1;32mIn[11], line 8\u001b[0m\n\u001b[0;32m      6\u001b[0m epochs \u001b[38;5;241m=\u001b[39m \u001b[38;5;241m5\u001b[39m\n\u001b[0;32m      7\u001b[0m \u001b[38;5;28;01mfor\u001b[39;00m epoch \u001b[38;5;129;01min\u001b[39;00m \u001b[38;5;28mrange\u001b[39m(epochs):\n\u001b[1;32m----> 8\u001b[0m     \u001b[38;5;28;01mfor\u001b[39;00m images, labels \u001b[38;5;129;01min\u001b[39;00m \u001b[43mtrain_dataloader\u001b[49m:\n\u001b[0;32m      9\u001b[0m         images \u001b[38;5;241m=\u001b[39m images\u001b[38;5;241m.\u001b[39mview(images\u001b[38;5;241m.\u001b[39mshape[\u001b[38;5;241m0\u001b[39m], \u001b[38;5;241m784\u001b[39m)\n\u001b[0;32m     11\u001b[0m         \u001b[38;5;66;03m# Training\u001b[39;00m\n",
      "\u001b[1;31mNameError\u001b[0m: name 'train_dataloader' is not defined"
     ]
    }
   ],
   "source": [
    "model = DigitRecognition()\n",
    "\n",
    "loss_fuction = nn.CrossEntropyLoss()\n",
    "optimizer = torch.optim.Adam(model.parameters())\n",
    "\n",
    "epochs = 5\n",
    "for epoch in range(epochs):\n",
    "    for images, labels in train_dataloader:\n",
    "        images = images.view(images.shape[0], 784)\n",
    "\n",
    "        # Training\n",
    "\n",
    "        model_prediction = model(images)\n",
    "        optimizer.zero_grad()\n",
    "        loss = loss_function(model_prediction, labels)\n",
    "        loss.backwards()\n",
    "        optimizer.step()"
   ]
  },
  {
   "cell_type": "code",
   "execution_count": null,
   "id": "95118617-8334-4e7a-bae8-a2c5a3426b28",
   "metadata": {},
   "outputs": [],
   "source": [
    "model.eval()\n",
    "for images, labels in test_dataloader:\n",
    "    images = images.view(images.shape[0]. 784)\n",
    "\n",
    "    model_prediction = model(images)\n",
    "    max, idx = torch.max(model_prediction, dim = 1)\n",
    "    for i in range(len(images)):\n",
    "        plt.imshow(images"
   ]
  }
 ],
 "metadata": {
  "kernelspec": {
   "display_name": "Python 3 (ipykernel)",
   "language": "python",
   "name": "python3"
  },
  "language_info": {
   "codemirror_mode": {
    "name": "ipython",
    "version": 3
   },
   "file_extension": ".py",
   "mimetype": "text/x-python",
   "name": "python",
   "nbconvert_exporter": "python",
   "pygments_lexer": "ipython3",
   "version": "3.11.9"
  }
 },
 "nbformat": 4,
 "nbformat_minor": 5
}
